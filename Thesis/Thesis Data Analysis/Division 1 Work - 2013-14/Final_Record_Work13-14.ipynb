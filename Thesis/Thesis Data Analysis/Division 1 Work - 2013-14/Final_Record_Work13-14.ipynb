{
 "cells": [
  {
   "cell_type": "code",
   "execution_count": 3,
   "id": "aae4cace-3187-467b-9fa0-8881aa19029f",
   "metadata": {},
   "outputs": [
    {
     "data": {
      "text/html": [
       "<div>\n",
       "<style scoped>\n",
       "    .dataframe tbody tr th:only-of-type {\n",
       "        vertical-align: middle;\n",
       "    }\n",
       "\n",
       "    .dataframe tbody tr th {\n",
       "        vertical-align: top;\n",
       "    }\n",
       "\n",
       "    .dataframe thead th {\n",
       "        text-align: right;\n",
       "    }\n",
       "</style>\n",
       "<table border=\"1\" class=\"dataframe\">\n",
       "  <thead>\n",
       "    <tr style=\"text-align: right;\">\n",
       "      <th></th>\n",
       "      <th>School</th>\n",
       "      <th>4-Class</th>\n",
       "      <th>GSR Rate</th>\n",
       "      <th>School.1</th>\n",
       "      <th>Overall G</th>\n",
       "      <th>Overall W</th>\n",
       "      <th>Overall L</th>\n",
       "      <th>Overall W-L%</th>\n",
       "    </tr>\n",
       "  </thead>\n",
       "  <tbody>\n",
       "    <tr>\n",
       "      <th>0</th>\n",
       "      <td>Abilene Christian University</td>\n",
       "      <td>92-c</td>\n",
       "      <td>0.92</td>\n",
       "      <td>Abilene Christian</td>\n",
       "      <td>30</td>\n",
       "      <td>18</td>\n",
       "      <td>12</td>\n",
       "      <td>0.600</td>\n",
       "    </tr>\n",
       "    <tr>\n",
       "      <th>1</th>\n",
       "      <td>Alabama A&amp;M University</td>\n",
       "      <td>64-c</td>\n",
       "      <td>0.64</td>\n",
       "      <td>Alabama A&amp;M</td>\n",
       "      <td>30</td>\n",
       "      <td>6</td>\n",
       "      <td>24</td>\n",
       "      <td>0.200</td>\n",
       "    </tr>\n",
       "    <tr>\n",
       "      <th>2</th>\n",
       "      <td>Alabama State University</td>\n",
       "      <td>91-c</td>\n",
       "      <td>0.91</td>\n",
       "      <td>Alabama State</td>\n",
       "      <td>30</td>\n",
       "      <td>16</td>\n",
       "      <td>14</td>\n",
       "      <td>0.533</td>\n",
       "    </tr>\n",
       "    <tr>\n",
       "      <th>3</th>\n",
       "      <td>Alcorn State University</td>\n",
       "      <td>73-c</td>\n",
       "      <td>0.73</td>\n",
       "      <td>Alcorn State</td>\n",
       "      <td>30</td>\n",
       "      <td>8</td>\n",
       "      <td>22</td>\n",
       "      <td>0.267</td>\n",
       "    </tr>\n",
       "    <tr>\n",
       "      <th>4</th>\n",
       "      <td>American University</td>\n",
       "      <td>100-c</td>\n",
       "      <td>1.00</td>\n",
       "      <td>American</td>\n",
       "      <td>32</td>\n",
       "      <td>22</td>\n",
       "      <td>10</td>\n",
       "      <td>0.688</td>\n",
       "    </tr>\n",
       "  </tbody>\n",
       "</table>\n",
       "</div>"
      ],
      "text/plain": [
       "                         School 4-Class  GSR Rate           School.1  \\\n",
       "0  Abilene Christian University    92-c      0.92  Abilene Christian   \n",
       "1        Alabama A&M University    64-c      0.64        Alabama A&M   \n",
       "2      Alabama State University    91-c      0.91      Alabama State   \n",
       "3       Alcorn State University    73-c      0.73       Alcorn State   \n",
       "4           American University   100-c      1.00           American   \n",
       "\n",
       "   Overall G  Overall W  Overall L  Overall W-L%  \n",
       "0         30         18         12         0.600  \n",
       "1         30          6         24         0.200  \n",
       "2         30         16         14         0.533  \n",
       "3         30          8         22         0.267  \n",
       "4         32         22         10         0.688  "
      ]
     },
     "execution_count": 3,
     "metadata": {},
     "output_type": "execute_result"
    }
   ],
   "source": [
    "import pandas as pd\n",
    "df = pd.read_csv(\"Untitled spreadsheet - Women's13-14record.csv\")\n",
    "df.head()"
   ]
  },
  {
   "cell_type": "code",
   "execution_count": 4,
   "id": "022cc1d2-30fd-48a3-b73f-60652f25875f",
   "metadata": {},
   "outputs": [],
   "source": [
    "bins = [0, 0.2, 0.4, 0.6, 0.8, 1.0]\n",
    "labels = [5, 4, 3, 2, 1]  # Lower number = better category\n",
    "\n",
    "# Apply categorization\n",
    "df['Win Category'] = pd.cut(df['Overall W-L%'], bins=bins, labels=labels, include_lowest=True, right=False)\n",
    "\n",
    "# Optional: convert category to int\n",
    "df['Win Category'] = df['Win Category'].astype(float)"
   ]
  },
  {
   "cell_type": "code",
   "execution_count": 5,
   "id": "f127747b-764c-4790-896d-a2072d838ff1",
   "metadata": {},
   "outputs": [
    {
     "data": {
      "text/html": [
       "<div>\n",
       "<style scoped>\n",
       "    .dataframe tbody tr th:only-of-type {\n",
       "        vertical-align: middle;\n",
       "    }\n",
       "\n",
       "    .dataframe tbody tr th {\n",
       "        vertical-align: top;\n",
       "    }\n",
       "\n",
       "    .dataframe thead th {\n",
       "        text-align: right;\n",
       "    }\n",
       "</style>\n",
       "<table border=\"1\" class=\"dataframe\">\n",
       "  <thead>\n",
       "    <tr style=\"text-align: right;\">\n",
       "      <th></th>\n",
       "      <th>School</th>\n",
       "      <th>4-Class</th>\n",
       "      <th>GSR Rate</th>\n",
       "      <th>School.1</th>\n",
       "      <th>Overall G</th>\n",
       "      <th>Overall W</th>\n",
       "      <th>Overall L</th>\n",
       "      <th>Overall W-L%</th>\n",
       "      <th>Win Category</th>\n",
       "    </tr>\n",
       "  </thead>\n",
       "  <tbody>\n",
       "    <tr>\n",
       "      <th>0</th>\n",
       "      <td>Abilene Christian University</td>\n",
       "      <td>92-c</td>\n",
       "      <td>0.92</td>\n",
       "      <td>Abilene Christian</td>\n",
       "      <td>30</td>\n",
       "      <td>18</td>\n",
       "      <td>12</td>\n",
       "      <td>0.600</td>\n",
       "      <td>2.0</td>\n",
       "    </tr>\n",
       "    <tr>\n",
       "      <th>1</th>\n",
       "      <td>Alabama A&amp;M University</td>\n",
       "      <td>64-c</td>\n",
       "      <td>0.64</td>\n",
       "      <td>Alabama A&amp;M</td>\n",
       "      <td>30</td>\n",
       "      <td>6</td>\n",
       "      <td>24</td>\n",
       "      <td>0.200</td>\n",
       "      <td>4.0</td>\n",
       "    </tr>\n",
       "    <tr>\n",
       "      <th>2</th>\n",
       "      <td>Alabama State University</td>\n",
       "      <td>91-c</td>\n",
       "      <td>0.91</td>\n",
       "      <td>Alabama State</td>\n",
       "      <td>30</td>\n",
       "      <td>16</td>\n",
       "      <td>14</td>\n",
       "      <td>0.533</td>\n",
       "      <td>3.0</td>\n",
       "    </tr>\n",
       "    <tr>\n",
       "      <th>3</th>\n",
       "      <td>Alcorn State University</td>\n",
       "      <td>73-c</td>\n",
       "      <td>0.73</td>\n",
       "      <td>Alcorn State</td>\n",
       "      <td>30</td>\n",
       "      <td>8</td>\n",
       "      <td>22</td>\n",
       "      <td>0.267</td>\n",
       "      <td>4.0</td>\n",
       "    </tr>\n",
       "    <tr>\n",
       "      <th>4</th>\n",
       "      <td>American University</td>\n",
       "      <td>100-c</td>\n",
       "      <td>1.00</td>\n",
       "      <td>American</td>\n",
       "      <td>32</td>\n",
       "      <td>22</td>\n",
       "      <td>10</td>\n",
       "      <td>0.688</td>\n",
       "      <td>2.0</td>\n",
       "    </tr>\n",
       "  </tbody>\n",
       "</table>\n",
       "</div>"
      ],
      "text/plain": [
       "                         School 4-Class  GSR Rate           School.1  \\\n",
       "0  Abilene Christian University    92-c      0.92  Abilene Christian   \n",
       "1        Alabama A&M University    64-c      0.64        Alabama A&M   \n",
       "2      Alabama State University    91-c      0.91      Alabama State   \n",
       "3       Alcorn State University    73-c      0.73       Alcorn State   \n",
       "4           American University   100-c      1.00           American   \n",
       "\n",
       "   Overall G  Overall W  Overall L  Overall W-L%  Win Category  \n",
       "0         30         18         12         0.600           2.0  \n",
       "1         30          6         24         0.200           4.0  \n",
       "2         30         16         14         0.533           3.0  \n",
       "3         30          8         22         0.267           4.0  \n",
       "4         32         22         10         0.688           2.0  "
      ]
     },
     "execution_count": 5,
     "metadata": {},
     "output_type": "execute_result"
    }
   ],
   "source": [
    "df.head()"
   ]
  },
  {
   "cell_type": "code",
   "execution_count": 6,
   "id": "a1bed285-5c39-4b47-a72b-ba52700ca754",
   "metadata": {},
   "outputs": [
    {
     "name": "stdout",
     "output_type": "stream",
     "text": [
      "   Win Category  Average GSR Percentage\n",
      "0           1.0                0.901579\n",
      "1           2.0                0.867979\n",
      "2           3.0                0.869206\n",
      "3           4.0                0.846860\n",
      "4           5.0                0.841667\n"
     ]
    }
   ],
   "source": [
    "# Group by Win Category and calculate the average GSR Percentage\n",
    "avg_gsr_by_win_category = df.groupby(\"Win Category\")[\"GSR Rate\"].mean().reset_index()\n",
    "\n",
    "# Optional: Rename columns for clarity\n",
    "avg_gsr_by_win_category.columns = [\"Win Category\", \"Average GSR Percentage\"]\n",
    "\n",
    "# Display result\n",
    "print(avg_gsr_by_win_category)"
   ]
  },
  {
   "cell_type": "code",
   "execution_count": 7,
   "id": "9b119ce1-6d8a-42bc-a736-73703a3b9579",
   "metadata": {},
   "outputs": [
    {
     "name": "stdout",
     "output_type": "stream",
     "text": [
      "   Win Category  Average GSR Percentage\n",
      "0           1.0                    0.92\n",
      "1           2.0                    0.91\n",
      "2           3.0                    0.91\n",
      "3           4.0                    0.88\n",
      "4           5.0                    0.89\n"
     ]
    }
   ],
   "source": [
    "# Group by Win Category and calculate the average GSR Percentage\n",
    "avg_gsr_by_win_category = df.groupby(\"Win Category\")[\"GSR Rate\"].median().reset_index()\n",
    "\n",
    "# Optional: Rename columns for clarity\n",
    "avg_gsr_by_win_category.columns = [\"Win Category\", \"Average GSR Percentage\"]\n",
    "\n",
    "# Display result\n",
    "print(avg_gsr_by_win_category)"
   ]
  },
  {
   "cell_type": "code",
   "execution_count": 8,
   "id": "0f446d1f-7ce9-41a4-9a9f-ddd05e7b2b21",
   "metadata": {},
   "outputs": [
    {
     "data": {
      "text/plain": [
       "Win Category\n",
       "1.0     19\n",
       "2.0     94\n",
       "3.0    126\n",
       "4.0     86\n",
       "5.0     18\n",
       "Name: count, dtype: int64"
      ]
     },
     "execution_count": 8,
     "metadata": {},
     "output_type": "execute_result"
    }
   ],
   "source": [
    "df[\"Win Category\"].value_counts().sort_index()"
   ]
  },
  {
   "cell_type": "code",
   "execution_count": 9,
   "id": "6c2721f9-0741-4017-a2bd-9c6d288a75b5",
   "metadata": {},
   "outputs": [],
   "source": [
    "#Men's Basketball"
   ]
  },
  {
   "cell_type": "code",
   "execution_count": 10,
   "id": "49616957-1d5b-46b1-b240-5a98da6d4676",
   "metadata": {},
   "outputs": [
    {
     "data": {
      "text/html": [
       "<div>\n",
       "<style scoped>\n",
       "    .dataframe tbody tr th:only-of-type {\n",
       "        vertical-align: middle;\n",
       "    }\n",
       "\n",
       "    .dataframe tbody tr th {\n",
       "        vertical-align: top;\n",
       "    }\n",
       "\n",
       "    .dataframe thead th {\n",
       "        text-align: right;\n",
       "    }\n",
       "</style>\n",
       "<table border=\"1\" class=\"dataframe\">\n",
       "  <thead>\n",
       "    <tr style=\"text-align: right;\">\n",
       "      <th></th>\n",
       "      <th>School</th>\n",
       "      <th>4-Class</th>\n",
       "      <th>GSR Rate</th>\n",
       "      <th>School 2 (For some)</th>\n",
       "      <th>Overall G</th>\n",
       "      <th>Overall W</th>\n",
       "      <th>Overall L</th>\n",
       "      <th>Overall W-L%</th>\n",
       "    </tr>\n",
       "  </thead>\n",
       "  <tbody>\n",
       "    <tr>\n",
       "      <th>0</th>\n",
       "      <td>Abilene Christian University</td>\n",
       "      <td>57-e</td>\n",
       "      <td>0.57</td>\n",
       "      <td>Abilene Christian</td>\n",
       "      <td>31</td>\n",
       "      <td>11</td>\n",
       "      <td>20</td>\n",
       "      <td>0.355</td>\n",
       "    </tr>\n",
       "    <tr>\n",
       "      <th>1</th>\n",
       "      <td>Alabama A&amp;M University</td>\n",
       "      <td>33-c</td>\n",
       "      <td>0.33</td>\n",
       "      <td>Alabama A&amp;M</td>\n",
       "      <td>30</td>\n",
       "      <td>14</td>\n",
       "      <td>16</td>\n",
       "      <td>0.467</td>\n",
       "    </tr>\n",
       "    <tr>\n",
       "      <th>2</th>\n",
       "      <td>Alabama State University</td>\n",
       "      <td>45-c</td>\n",
       "      <td>0.45</td>\n",
       "      <td>Alabama State</td>\n",
       "      <td>32</td>\n",
       "      <td>19</td>\n",
       "      <td>13</td>\n",
       "      <td>0.594</td>\n",
       "    </tr>\n",
       "    <tr>\n",
       "      <th>3</th>\n",
       "      <td>Alcorn State University</td>\n",
       "      <td>55-c</td>\n",
       "      <td>0.55</td>\n",
       "      <td>Alcorn State</td>\n",
       "      <td>31</td>\n",
       "      <td>12</td>\n",
       "      <td>19</td>\n",
       "      <td>0.387</td>\n",
       "    </tr>\n",
       "    <tr>\n",
       "      <th>4</th>\n",
       "      <td>American University</td>\n",
       "      <td>93-c</td>\n",
       "      <td>0.93</td>\n",
       "      <td>American NCAA</td>\n",
       "      <td>33</td>\n",
       "      <td>20</td>\n",
       "      <td>13</td>\n",
       "      <td>0.606</td>\n",
       "    </tr>\n",
       "  </tbody>\n",
       "</table>\n",
       "</div>"
      ],
      "text/plain": [
       "                         School 4-Class  GSR Rate School 2 (For some)  \\\n",
       "0  Abilene Christian University    57-e      0.57   Abilene Christian   \n",
       "1        Alabama A&M University    33-c      0.33         Alabama A&M   \n",
       "2      Alabama State University    45-c      0.45       Alabama State   \n",
       "3       Alcorn State University    55-c      0.55        Alcorn State   \n",
       "4           American University    93-c      0.93       American NCAA   \n",
       "\n",
       "   Overall G  Overall W  Overall L  Overall W-L%  \n",
       "0         31         11         20         0.355  \n",
       "1         30         14         16         0.467  \n",
       "2         32         19         13         0.594  \n",
       "3         31         12         19         0.387  \n",
       "4         33         20         13         0.606  "
      ]
     },
     "execution_count": 10,
     "metadata": {},
     "output_type": "execute_result"
    }
   ],
   "source": [
    "import pandas as pd\n",
    "df2 = pd.read_csv(\"Untitled spreadsheet - men's 13-14records.csv\")\n",
    "df2.head()"
   ]
  },
  {
   "cell_type": "code",
   "execution_count": 11,
   "id": "856b809a-4244-4904-9135-12971e64fe79",
   "metadata": {},
   "outputs": [],
   "source": [
    "bins = [0, 0.2, 0.4, 0.6, 0.8, 1.0]\n",
    "labels = [5, 4, 3, 2, 1]  # Lower number = better category\n",
    "\n",
    "# Apply categorization\n",
    "df2['Win Category'] = pd.cut(df2['Overall W-L%'], bins=bins, labels=labels, include_lowest=True, right=False)\n",
    "\n",
    "# Optional: convert category to int\n",
    "df2['Win Category'] = df2['Win Category'].astype(float)"
   ]
  },
  {
   "cell_type": "code",
   "execution_count": 12,
   "id": "14d1e952-41f2-4dcd-8864-978c96822398",
   "metadata": {},
   "outputs": [
    {
     "data": {
      "text/html": [
       "<div>\n",
       "<style scoped>\n",
       "    .dataframe tbody tr th:only-of-type {\n",
       "        vertical-align: middle;\n",
       "    }\n",
       "\n",
       "    .dataframe tbody tr th {\n",
       "        vertical-align: top;\n",
       "    }\n",
       "\n",
       "    .dataframe thead th {\n",
       "        text-align: right;\n",
       "    }\n",
       "</style>\n",
       "<table border=\"1\" class=\"dataframe\">\n",
       "  <thead>\n",
       "    <tr style=\"text-align: right;\">\n",
       "      <th></th>\n",
       "      <th>School</th>\n",
       "      <th>4-Class</th>\n",
       "      <th>GSR Rate</th>\n",
       "      <th>School 2 (For some)</th>\n",
       "      <th>Overall G</th>\n",
       "      <th>Overall W</th>\n",
       "      <th>Overall L</th>\n",
       "      <th>Overall W-L%</th>\n",
       "      <th>Win Category</th>\n",
       "    </tr>\n",
       "  </thead>\n",
       "  <tbody>\n",
       "    <tr>\n",
       "      <th>0</th>\n",
       "      <td>Abilene Christian University</td>\n",
       "      <td>57-e</td>\n",
       "      <td>0.57</td>\n",
       "      <td>Abilene Christian</td>\n",
       "      <td>31</td>\n",
       "      <td>11</td>\n",
       "      <td>20</td>\n",
       "      <td>0.355</td>\n",
       "      <td>4.0</td>\n",
       "    </tr>\n",
       "    <tr>\n",
       "      <th>1</th>\n",
       "      <td>Alabama A&amp;M University</td>\n",
       "      <td>33-c</td>\n",
       "      <td>0.33</td>\n",
       "      <td>Alabama A&amp;M</td>\n",
       "      <td>30</td>\n",
       "      <td>14</td>\n",
       "      <td>16</td>\n",
       "      <td>0.467</td>\n",
       "      <td>3.0</td>\n",
       "    </tr>\n",
       "    <tr>\n",
       "      <th>2</th>\n",
       "      <td>Alabama State University</td>\n",
       "      <td>45-c</td>\n",
       "      <td>0.45</td>\n",
       "      <td>Alabama State</td>\n",
       "      <td>32</td>\n",
       "      <td>19</td>\n",
       "      <td>13</td>\n",
       "      <td>0.594</td>\n",
       "      <td>3.0</td>\n",
       "    </tr>\n",
       "    <tr>\n",
       "      <th>3</th>\n",
       "      <td>Alcorn State University</td>\n",
       "      <td>55-c</td>\n",
       "      <td>0.55</td>\n",
       "      <td>Alcorn State</td>\n",
       "      <td>31</td>\n",
       "      <td>12</td>\n",
       "      <td>19</td>\n",
       "      <td>0.387</td>\n",
       "      <td>4.0</td>\n",
       "    </tr>\n",
       "    <tr>\n",
       "      <th>4</th>\n",
       "      <td>American University</td>\n",
       "      <td>93-c</td>\n",
       "      <td>0.93</td>\n",
       "      <td>American NCAA</td>\n",
       "      <td>33</td>\n",
       "      <td>20</td>\n",
       "      <td>13</td>\n",
       "      <td>0.606</td>\n",
       "      <td>2.0</td>\n",
       "    </tr>\n",
       "  </tbody>\n",
       "</table>\n",
       "</div>"
      ],
      "text/plain": [
       "                         School 4-Class  GSR Rate School 2 (For some)  \\\n",
       "0  Abilene Christian University    57-e      0.57   Abilene Christian   \n",
       "1        Alabama A&M University    33-c      0.33         Alabama A&M   \n",
       "2      Alabama State University    45-c      0.45       Alabama State   \n",
       "3       Alcorn State University    55-c      0.55        Alcorn State   \n",
       "4           American University    93-c      0.93       American NCAA   \n",
       "\n",
       "   Overall G  Overall W  Overall L  Overall W-L%  Win Category  \n",
       "0         31         11         20         0.355           4.0  \n",
       "1         30         14         16         0.467           3.0  \n",
       "2         32         19         13         0.594           3.0  \n",
       "3         31         12         19         0.387           4.0  \n",
       "4         33         20         13         0.606           2.0  "
      ]
     },
     "execution_count": 12,
     "metadata": {},
     "output_type": "execute_result"
    }
   ],
   "source": [
    "df2.head()"
   ]
  },
  {
   "cell_type": "code",
   "execution_count": 13,
   "id": "a8cb58f7-c71d-4645-9378-201ec339c05b",
   "metadata": {},
   "outputs": [
    {
     "data": {
      "text/plain": [
       "Win Category\n",
       "1.0     14\n",
       "2.0     99\n",
       "3.0    141\n",
       "4.0     79\n",
       "5.0     12\n",
       "Name: count, dtype: int64"
      ]
     },
     "execution_count": 13,
     "metadata": {},
     "output_type": "execute_result"
    }
   ],
   "source": [
    "df2[\"Win Category\"].value_counts().sort_index()"
   ]
  },
  {
   "cell_type": "code",
   "execution_count": 14,
   "id": "9cbef083-09f4-4b51-82d3-c4e09d1bba28",
   "metadata": {},
   "outputs": [
    {
     "name": "stdout",
     "output_type": "stream",
     "text": [
      "   Win Category  Average GSR Percentage\n",
      "0           1.0                0.672857\n",
      "1           2.0                0.750000\n",
      "2           3.0                0.734326\n",
      "3           4.0                0.719747\n",
      "4           5.0                0.615833\n"
     ]
    }
   ],
   "source": [
    "# Group by Win Category and calculate the average GSR Percentage\n",
    "avg_gsr_by_win_category = df2.groupby(\"Win Category\")[\"GSR Rate\"].mean().reset_index()\n",
    "\n",
    "# Optional: Rename columns for clarity\n",
    "avg_gsr_by_win_category.columns = [\"Win Category\", \"Average GSR Percentage\"]\n",
    "\n",
    "# Display result\n",
    "print(avg_gsr_by_win_category)"
   ]
  },
  {
   "cell_type": "code",
   "execution_count": 15,
   "id": "c955861e-bc91-4ee5-810f-dfb0e96c115c",
   "metadata": {},
   "outputs": [
    {
     "name": "stdout",
     "output_type": "stream",
     "text": [
      "   Win Category  Average GSR Percentage\n",
      "0           1.0                   0.635\n",
      "1           2.0                   0.780\n",
      "2           3.0                   0.750\n",
      "3           4.0                   0.710\n",
      "4           5.0                   0.655\n"
     ]
    }
   ],
   "source": [
    "# Group by Win Category and calculate the average GSR Percentage\n",
    "avg_gsr_by_win_category = df2.groupby(\"Win Category\")[\"GSR Rate\"].median().reset_index()\n",
    "\n",
    "# Optional: Rename columns for clarity\n",
    "avg_gsr_by_win_category.columns = [\"Win Category\", \"Average GSR Percentage\"]\n",
    "\n",
    "# Display result\n",
    "print(avg_gsr_by_win_category)"
   ]
  },
  {
   "cell_type": "code",
   "execution_count": 16,
   "id": "76c9533a-9af1-48de-b976-1e9b8a5da69f",
   "metadata": {},
   "outputs": [
    {
     "name": "stdout",
     "output_type": "stream",
     "text": [
      "📊 Overall median GSR Rate: 0.75\n"
     ]
    }
   ],
   "source": [
    "overall_median = df2[\"GSR Rate\"].median()\n",
    "print(f\"📊 Overall median GSR Rate: {overall_median:.2f}\")\n"
   ]
  },
  {
   "cell_type": "code",
   "execution_count": 21,
   "id": "28378ed2-a6fa-453d-a37f-8d15624de524",
   "metadata": {},
   "outputs": [
    {
     "name": "stdout",
     "output_type": "stream",
     "text": [
      "📊 Overall median GSR Rate: 0.91\n"
     ]
    }
   ],
   "source": [
    "overall_median = df[\"GSR Rate\"].median()\n",
    "print(f\"📊 Overall median GSR Rate: {overall_median:.2f}\")"
   ]
  },
  {
   "cell_type": "code",
   "execution_count": 17,
   "id": "2966646c-8544-41d3-9557-2c8578c51e9b",
   "metadata": {},
   "outputs": [
    {
     "name": "stdout",
     "output_type": "stream",
     "text": [
      "                           School 4-Class  GSR Rate    School 2 (For some)  \\\n",
      "4             American University    93-c      0.93          American NCAA   \n",
      "9    Austin Peay State University    92-c      0.92            Austin Peay   \n",
      "11              Baylor University    92-c      0.92            Baylor NCAA   \n",
      "12             Belmont University   100-b      1.00                Belmont   \n",
      "17              Boston University   100-c      1.00      Boston University   \n",
      "..                            ...     ...       ...                    ...   \n",
      "328                Wagner College    92-c      0.92                 Wagner   \n",
      "336   Western Michigan University   100-b      1.00  Western Michigan NCAA   \n",
      "339           Winthrop University   100-c      1.00               Winthrop   \n",
      "340               Wofford College    91-c      0.91           Wofford NCAA   \n",
      "343               Yale University    95-d      0.95                   Yale   \n",
      "\n",
      "     Overall G  Overall W  Overall L  Overall W-L%  Win Category  \n",
      "4           33         20         13         0.606           2.0  \n",
      "9           30         12         18         0.400           3.0  \n",
      "11          38         26         12         0.684           2.0  \n",
      "12          36         26         10         0.722           2.0  \n",
      "17          35         24         11         0.686           2.0  \n",
      "..         ...        ...        ...           ...           ...  \n",
      "328         31         19         12         0.613           2.0  \n",
      "336         33         23         10         0.697           2.0  \n",
      "339         33         20         13         0.606           2.0  \n",
      "340         33         20         13         0.606           2.0  \n",
      "343         33         19         14         0.576           3.0  \n",
      "\n",
      "[78 rows x 9 columns]\n"
     ]
    }
   ],
   "source": [
    "# Strip whitespace from column names\n",
    "df2.columns = df2.columns.str.strip()\n",
    "\n",
    "# Convert GSR Percentage to numeric\n",
    "df2[\"GSR Rate\"] = pd.to_numeric(df2[\"GSR Rate\"], errors='coerce')\n",
    "\n",
    "# Filter values that are 0.9 or higher (i.e., 90%+)\n",
    "over_90_df = df2[df2[\"GSR Rate\"] >= 0.9]\n",
    "\n",
    "# Display result\n",
    "print(over_90_df)"
   ]
  },
  {
   "cell_type": "code",
   "execution_count": 18,
   "id": "00e768a3-49bb-4c2a-857a-43d60dfe5bcf",
   "metadata": {},
   "outputs": [
    {
     "name": "stdout",
     "output_type": "stream",
     "text": [
      "Number of schools with GSR ≥ 90%: 78\n"
     ]
    }
   ],
   "source": [
    "count_over_90 = len(over_90_df)\n",
    "print(f\"Number of schools with GSR ≥ 90%: {count_over_90}\")"
   ]
  },
  {
   "cell_type": "code",
   "execution_count": 19,
   "id": "a0b0648f-8390-4001-802d-9dd171cdf073",
   "metadata": {},
   "outputs": [
    {
     "name": "stdout",
     "output_type": "stream",
     "text": [
      "                           School 4-Class  GSR Rate            School.1  \\\n",
      "0    Abilene Christian University    92-c      0.92   Abilene Christian   \n",
      "2        Alabama State University    91-c      0.91       Alabama State   \n",
      "4             American University   100-c      1.00            American   \n",
      "6        Arizona State University    93-c      0.93  Arizona State NCAA   \n",
      "8               Auburn University   100-c      1.00              Auburn   \n",
      "..                            ...     ...       ...                 ...   \n",
      "333   Western Illinois University    93-c      0.93    Western Illinois   \n",
      "336      Wichita State University    93-c      0.93  Wichita State NCAA   \n",
      "337                William & Mary   100-c      1.00      William & Mary   \n",
      "339               Wofford College   100-c      1.00             Wofford   \n",
      "342               Yale University   100-d      1.00                Yale   \n",
      "\n",
      "     Overall G  Overall W  Overall L  Overall W-L%  Win Category  \n",
      "0           30         18         12         0.600           2.0  \n",
      "2           30         16         14         0.533           3.0  \n",
      "4           32         22         10         0.688           2.0  \n",
      "6           33         23         10         0.697           2.0  \n",
      "8           34         19         15         0.559           3.0  \n",
      "..         ...        ...        ...           ...           ...  \n",
      "333         30         14         16         0.467           3.0  \n",
      "336         33         26          7         0.788           2.0  \n",
      "337         29          8         21         0.276           4.0  \n",
      "339         29          6         23         0.207           4.0  \n",
      "342         28         13         15         0.464           3.0  \n",
      "\n",
      "[176 rows x 9 columns]\n"
     ]
    }
   ],
   "source": [
    "# Strip whitespace from column names\n",
    "df.columns = df.columns.str.strip()\n",
    "\n",
    "# Convert GSR Percentage to numeric\n",
    "df[\"GSR Rate\"] = pd.to_numeric(df[\"GSR Rate\"], errors='coerce')\n",
    "\n",
    "# Filter values that are 0.9 or higher (i.e., 90%+)\n",
    "Womenover_90_df = df[df[\"GSR Rate\"] >= 0.9]\n",
    "\n",
    "# Display result\n",
    "print(Womenover_90_df)"
   ]
  },
  {
   "cell_type": "code",
   "execution_count": 20,
   "id": "831531cc-af07-4c70-a02a-21254b4a8a3f",
   "metadata": {},
   "outputs": [
    {
     "name": "stdout",
     "output_type": "stream",
     "text": [
      "Number of schools with GSR ≥ 90%: 176\n"
     ]
    }
   ],
   "source": [
    "Womencount_over_90 = len(Womenover_90_df)\n",
    "print(f\"Number of schools with GSR ≥ 90%: {Womencount_over_90}\")"
   ]
  }
 ],
 "metadata": {
  "kernelspec": {
   "display_name": "Python 3 (ipykernel)",
   "language": "python",
   "name": "python3"
  },
  "language_info": {
   "codemirror_mode": {
    "name": "ipython",
    "version": 3
   },
   "file_extension": ".py",
   "mimetype": "text/x-python",
   "name": "python",
   "nbconvert_exporter": "python",
   "pygments_lexer": "ipython3",
   "version": "3.13.5"
  }
 },
 "nbformat": 4,
 "nbformat_minor": 5
}
